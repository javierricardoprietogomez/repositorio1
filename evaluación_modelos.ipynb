{
 "cells": [
  {
   "cell_type": "code",
   "execution_count": 114,
   "id": "e49476fd",
   "metadata": {},
   "outputs": [],
   "source": [
    "import pandas as pd\n",
    "import numpy as np\n",
    "from sklearn.pipeline import Pipeline\n",
    "from sklearn.impute import SimpleImputer\n",
    "from sklearn.preprocessing import OneHotEncoder, MinMaxScaler\n",
    "from sklearn.model_selection import train_test_split\n",
    "from sklearn.model_selection import cross_validate, GridSearchCV\n",
    "from sklearn.compose import ColumnTransformer\n",
    "from sklearn.tree import DecisionTreeClassifier\n",
    "import matplotlib.pyplot as plt\n",
    "import numpy as np\n",
    "import joblib"
   ]
  },
  {
   "cell_type": "markdown",
   "id": "359dc091",
   "metadata": {},
   "source": [
    "## Cargue de datos"
   ]
  },
  {
   "cell_type": "code",
   "execution_count": 35,
   "id": "4bf85e33",
   "metadata": {},
   "outputs": [],
   "source": [
    "train = pd.read_csv(\"s3://german-credit-255423/datos/train/train.csv\")\n",
    "test = pd.read_csv(\"s3://german-credit-255423/datos/test/test.csv\")"
   ]
  },
  {
   "cell_type": "code",
   "execution_count": null,
   "id": "180dfb9d",
   "metadata": {},
   "outputs": [],
   "source": []
  },
  {
   "cell_type": "markdown",
   "id": "f76d55ba",
   "metadata": {},
   "source": [
    "## Creación del pipeline"
   ]
  },
  {
   "cell_type": "code",
   "execution_count": 36,
   "id": "f8ecb782",
   "metadata": {},
   "outputs": [],
   "source": [
    "numeric_pipeline = Pipeline(\n",
    "    [\n",
    "        ('Imputación con la media',   SimpleImputer(strategy='mean')),\n",
    "        ('Escalado minmax', MinMaxScaler())\n",
    "        \n",
    "    ]\n",
    ")"
   ]
  },
  {
   "cell_type": "code",
   "execution_count": 37,
   "id": "34229376",
   "metadata": {},
   "outputs": [],
   "source": [
    "categorical_pipeline = Pipeline(\n",
    "        [\n",
    "            ('imputación moda', SimpleImputer(strategy='most_frequent')),\n",
    "            ('onehot encoder', OneHotEncoder(sparse=False))\n",
    "        ]\n",
    "\n",
    ")"
   ]
  },
  {
   "cell_type": "code",
   "execution_count": 38,
   "id": "33d5e749",
   "metadata": {},
   "outputs": [],
   "source": [
    "column_transformer = ColumnTransformer(\n",
    "            [\n",
    "                ('numeric pipeline', numeric_pipeline, [0, 1, 2]),\n",
    "                ('categorical pipeline', categorical_pipeline, [3, 4, 5])\n",
    "            ]\n",
    ")"
   ]
  },
  {
   "cell_type": "code",
   "execution_count": 39,
   "id": "54986de0",
   "metadata": {},
   "outputs": [],
   "source": [
    "features = [\"Age\", \"Credit amount\", \"Duration\", \"Sex\", \"Purpose\", \"Housing\"]"
   ]
  },
  {
   "cell_type": "markdown",
   "id": "4ee733e8",
   "metadata": {},
   "source": [
    "### Selección de características"
   ]
  },
  {
   "cell_type": "code",
   "execution_count": 40,
   "id": "9c90c9e5",
   "metadata": {},
   "outputs": [],
   "source": [
    "train = train.dropna()"
   ]
  },
  {
   "cell_type": "code",
   "execution_count": 41,
   "id": "d8ccf2a9",
   "metadata": {},
   "outputs": [],
   "source": [
    "X_train = train.drop([\"Risk\", \"Unnamed: 0\"], axis=1)"
   ]
  },
  {
   "cell_type": "code",
   "execution_count": 82,
   "id": "fe377bdf",
   "metadata": {},
   "outputs": [],
   "source": [
    "y_train = train[\"Risk\"]"
   ]
  },
  {
   "cell_type": "code",
   "execution_count": 83,
   "id": "7cf8303c",
   "metadata": {},
   "outputs": [],
   "source": [
    "y_train = (y_train=='good').astype(\"int\")"
   ]
  },
  {
   "cell_type": "code",
   "execution_count": 43,
   "id": "2f63e9c6",
   "metadata": {},
   "outputs": [
    {
     "name": "stdout",
     "output_type": "stream",
     "text": [
      "<class 'pandas.core.frame.DataFrame'>\n",
      "Int64Index: 361 entries, 0 to 699\n",
      "Data columns (total 9 columns):\n",
      " #   Column            Non-Null Count  Dtype \n",
      "---  ------            --------------  ----- \n",
      " 0   Age               361 non-null    int64 \n",
      " 1   Sex               361 non-null    object\n",
      " 2   Job               361 non-null    int64 \n",
      " 3   Housing           361 non-null    object\n",
      " 4   Saving accounts   361 non-null    object\n",
      " 5   Checking account  361 non-null    object\n",
      " 6   Credit amount     361 non-null    int64 \n",
      " 7   Duration          361 non-null    int64 \n",
      " 8   Purpose           361 non-null    object\n",
      "dtypes: int64(4), object(5)\n",
      "memory usage: 28.2+ KB\n"
     ]
    }
   ],
   "source": [
    "X_train.info()"
   ]
  },
  {
   "cell_type": "markdown",
   "id": "fe055669",
   "metadata": {},
   "source": [
    "### Importancia de características usando un Árbol de Decisión"
   ]
  },
  {
   "cell_type": "code",
   "execution_count": 44,
   "id": "bbbf9634",
   "metadata": {},
   "outputs": [],
   "source": [
    "X_train = pd.get_dummies(X_train)"
   ]
  },
  {
   "cell_type": "code",
   "execution_count": 45,
   "id": "571fa61a",
   "metadata": {},
   "outputs": [],
   "source": [
    "model = DecisionTreeClassifier()"
   ]
  },
  {
   "cell_type": "code",
   "execution_count": 46,
   "id": "9169c89f",
   "metadata": {},
   "outputs": [
    {
     "data": {
      "text/plain": [
       "DecisionTreeClassifier()"
      ]
     },
     "execution_count": 46,
     "metadata": {},
     "output_type": "execute_result"
    }
   ],
   "source": [
    "model.fit(X_train, y_train)"
   ]
  },
  {
   "cell_type": "code",
   "execution_count": 47,
   "id": "89255143",
   "metadata": {},
   "outputs": [
    {
     "data": {
      "text/plain": [
       "array([0.12443203, 0.04064761, 0.30135959, 0.19628039, 0.0182134 ,\n",
       "       0.01025807, 0.02620219, 0.        , 0.03521021, 0.0149864 ,\n",
       "       0.03057997, 0.01864187, 0.01925574, 0.02879681, 0.02060631,\n",
       "       0.00599456, 0.        , 0.05994562, 0.        , 0.00760165,\n",
       "       0.02155634, 0.01115465, 0.00827658, 0.        ])"
      ]
     },
     "execution_count": 47,
     "metadata": {},
     "output_type": "execute_result"
    }
   ],
   "source": [
    "model.feature_importances_"
   ]
  },
  {
   "cell_type": "code",
   "execution_count": 50,
   "id": "1b0f62c9",
   "metadata": {},
   "outputs": [
    {
     "data": {
      "text/plain": [
       "Index(['Age', 'Job', 'Credit amount', 'Duration', 'Sex_female', 'Sex_male',\n",
       "       'Housing_free', 'Housing_own', 'Housing_rent', 'Saving accounts_little',\n",
       "       'Saving accounts_moderate', 'Saving accounts_quite rich',\n",
       "       'Saving accounts_rich', 'Checking account_little',\n",
       "       'Checking account_moderate', 'Checking account_rich',\n",
       "       'Purpose_business', 'Purpose_car', 'Purpose_domestic appliances',\n",
       "       'Purpose_education', 'Purpose_furniture/equipment', 'Purpose_radio/TV',\n",
       "       'Purpose_repairs', 'Purpose_vacation/others'],\n",
       "      dtype='object')"
      ]
     },
     "execution_count": 50,
     "metadata": {},
     "output_type": "execute_result"
    }
   ],
   "source": [
    "X_train.columns"
   ]
  },
  {
   "cell_type": "code",
   "execution_count": 55,
   "id": "6d58d556",
   "metadata": {},
   "outputs": [
    {
     "data": {
      "image/png": "[encoded data removed]",
      "text/plain": [
       "<Figure size 432x288 with 1 Axes>"
      ]
     },
     "metadata": {
      "needs_background": "light"
     },
     "output_type": "display_data"
    }
   ],
   "source": [
    "plt.bar(x=X_train.columns, \n",
    "        height=model.feature_importances_)\n",
    "plt.xticks(rotation = 90)\n",
    "plt.show()"
   ]
  },
  {
   "cell_type": "code",
   "execution_count": 66,
   "id": "025d4ee0",
   "metadata": {},
   "outputs": [],
   "source": [
    "ordered_columns = X_train.columns[np.argsort(model.feature_importances_)[::-1]]"
   ]
  },
  {
   "cell_type": "code",
   "execution_count": 67,
   "id": "b217aa23",
   "metadata": {},
   "outputs": [],
   "source": [
    "ordered_importance = np.sort(model.feature_importances_)[::-1]"
   ]
  },
  {
   "cell_type": "code",
   "execution_count": 69,
   "id": "b9756147",
   "metadata": {},
   "outputs": [
    {
     "data": {
      "image/png": "[encoded data removed]",
      "text/plain": [
       "<Figure size 432x288 with 1 Axes>"
      ]
     },
     "metadata": {
      "needs_background": "light"
     },
     "output_type": "display_data"
    }
   ],
   "source": [
    "plt.bar(x=ordered_columns, \n",
    "        height=ordered_importance)\n",
    "plt.xticks(rotation = 90)\n",
    "plt.show()"
   ]
  },
  {
   "cell_type": "markdown",
   "id": "a2ee3823",
   "metadata": {},
   "source": [
    "### Regresión Logística"
   ]
  },
  {
   "cell_type": "code",
   "execution_count": 71,
   "id": "5d9ccf75",
   "metadata": {},
   "outputs": [],
   "source": [
    "from sklearn.linear_model import LogisticRegression\n",
    "from sklearn.preprocessing import MinMaxScaler"
   ]
  },
  {
   "cell_type": "code",
   "execution_count": 72,
   "id": "bb778950",
   "metadata": {},
   "outputs": [],
   "source": [
    "X_train_scaled = MinMaxScaler().fit_transform(X_train)"
   ]
  },
  {
   "cell_type": "code",
   "execution_count": 74,
   "id": "78b07094",
   "metadata": {},
   "outputs": [],
   "source": [
    "model = LogisticRegression()\n"
   ]
  },
  {
   "cell_type": "code",
   "execution_count": 77,
   "id": "31e2d2d7",
   "metadata": {},
   "outputs": [
    {
     "data": {
      "text/plain": [
       "LogisticRegression()"
      ]
     },
     "execution_count": 77,
     "metadata": {},
     "output_type": "execute_result"
    }
   ],
   "source": [
    "model.fit(X_train_scaled, y_train)"
   ]
  },
  {
   "cell_type": "code",
   "execution_count": 78,
   "id": "63b89041",
   "metadata": {},
   "outputs": [
    {
     "data": {
      "text/plain": [
       "array([[ 0.47424606,  0.46040332, -0.92624159, -2.03116232, -0.19687034,\n",
       "         0.19696162,  0.06881668,  0.14613817, -0.21486357, -0.46689979,\n",
       "        -0.41031105,  0.29891103,  0.57839108, -0.38283643, -0.16388134,\n",
       "         0.54680905,  0.28173634,  0.11494351, -0.14531633, -0.93147024,\n",
       "         0.17853055,  0.27162217,  0.07962265,  0.15042262]])"
      ]
     },
     "execution_count": 78,
     "metadata": {},
     "output_type": "execute_result"
    }
   ],
   "source": [
    "model.coef_"
   ]
  },
  {
   "cell_type": "code",
   "execution_count": 80,
   "id": "b1380401",
   "metadata": {},
   "outputs": [
    {
     "data": {
      "image/png": "[encoded data removed]",
      "text/plain": [
       "<Figure size 432x288 with 1 Axes>"
      ]
     },
     "metadata": {
      "needs_background": "light"
     },
     "output_type": "display_data"
    }
   ],
   "source": [
    "plt.bar(x=X_train.columns, \n",
    "        height=model.coef_[0])\n",
    "plt.xticks(rotation = 90)\n",
    "plt.show()"
   ]
  },
  {
   "cell_type": "markdown",
   "id": "68649b4a",
   "metadata": {},
   "source": [
    "### Evaluación de modelos"
   ]
  },
  {
   "cell_type": "code",
   "execution_count": 102,
   "id": "7c475a77",
   "metadata": {},
   "outputs": [],
   "source": [
    "train = pd.read_csv(\"s3://german-credit-255423/datos/train/train.csv\")\n",
    "X_train = train.drop([\"Risk\", \"Unnamed: 0\"], axis=1)\n",
    "y_train = train[\"Risk\"]\n",
    "y_train = (y_train=='good').astype(\"int\")"
   ]
  },
  {
   "cell_type": "code",
   "execution_count": 103,
   "id": "35a16fc4",
   "metadata": {},
   "outputs": [],
   "source": [
    "final_pipeline = Pipeline(\n",
    "            [\n",
    "                (\"preprocesamiento\", column_transformer),\n",
    "                (\"modelo\", DecisionTreeClassifier(max_depth=3))\n",
    "            ]\n",
    ")"
   ]
  },
  {
   "cell_type": "code",
   "execution_count": 104,
   "id": "5570e01c",
   "metadata": {},
   "outputs": [],
   "source": [
    "X_train = train[features]"
   ]
  },
  {
   "cell_type": "code",
   "execution_count": 105,
   "id": "b6faac82",
   "metadata": {},
   "outputs": [],
   "source": [
    "results = cross_validate(final_pipeline, X_train, y_train, \n",
    "                         cv=10, return_train_score=True,\n",
    "                        scoring=[\"accuracy\", \"f1\"])"
   ]
  },
  {
   "cell_type": "code",
   "execution_count": 106,
   "id": "8b9e10f6",
   "metadata": {},
   "outputs": [
    {
     "name": "stdout",
     "output_type": "stream",
     "text": [
      "train:  0.7474603174603175 +- 0.0027902215605153783\n",
      "val:  0.7214285714285713 +- 0.01317077779613268\n"
     ]
    }
   ],
   "source": [
    "print(\"train: \",results[\"train_accuracy\"].mean(), \"+-\",results[\"train_accuracy\"].std())\n",
    "print(\"val: \",results[\"test_accuracy\"].mean(), \"+-\",results[\"test_accuracy\"].std())"
   ]
  },
  {
   "cell_type": "code",
   "execution_count": 108,
   "id": "c0469b9c",
   "metadata": {},
   "outputs": [],
   "source": [
    "from sklearn.svm import SVC\n",
    "from sklearn.ensemble import RandomForestClassifier"
   ]
  },
  {
   "cell_type": "markdown",
   "id": "7d7b76fb",
   "metadata": {},
   "source": [
    "### Ajuste de hiperparámetros RandomForest"
   ]
  },
  {
   "cell_type": "markdown",
   "id": "5d38f4f7",
   "metadata": {},
   "source": [
    "#Probar, 50 árboles, 100 árboles, 200 árboles, alturas: 2, 3, 5, 10\n",
    "\n",
    "https://scikit-learn.org/stable/modules/generated/sklearn.ensemble.RandomForestClassifier.html"
   ]
  },
  {
   "cell_type": "code",
   "execution_count": 111,
   "id": "73e36aab",
   "metadata": {},
   "outputs": [],
   "source": [
    "grid = {\"n_estimators\": [50, 100, 200], \"max_depth\":  [2, 3, 5, 10]}"
   ]
  },
  {
   "cell_type": "code",
   "execution_count": 112,
   "id": "af3a3a95",
   "metadata": {},
   "outputs": [],
   "source": [
    "X_transformed = column_transformer.fit_transform(X_train)"
   ]
  },
  {
   "cell_type": "code",
   "execution_count": 115,
   "id": "ded67863",
   "metadata": {},
   "outputs": [],
   "source": [
    "grid_search = GridSearchCV(\n",
    "RandomForestClassifier(),    \n",
    "param_grid=grid,\n",
    "cv=10,\n",
    "scoring=\"accuracy\"\n",
    ")"
   ]
  },
  {
   "cell_type": "code",
   "execution_count": 116,
   "id": "523e4bf1",
   "metadata": {},
   "outputs": [
    {
     "data": {
      "text/plain": [
       "GridSearchCV(cv=10, estimator=RandomForestClassifier(),\n",
       "             param_grid={'max_depth': [2, 3, 5, 10],\n",
       "                         'n_estimators': [50, 100, 200]},\n",
       "             scoring='accuracy')"
      ]
     },
     "execution_count": 116,
     "metadata": {},
     "output_type": "execute_result"
    }
   ],
   "source": [
    "grid_search.fit(X_transformed, y_train)"
   ]
  },
  {
   "cell_type": "code",
   "execution_count": 117,
   "id": "0b44843f",
   "metadata": {},
   "outputs": [
    {
     "data": {
      "text/plain": [
       "{'max_depth': 5, 'n_estimators': 100}"
      ]
     },
     "execution_count": 117,
     "metadata": {},
     "output_type": "execute_result"
    }
   ],
   "source": [
    "grid_search.best_params_"
   ]
  },
  {
   "cell_type": "code",
   "execution_count": 118,
   "id": "dea0547a",
   "metadata": {},
   "outputs": [
    {
     "data": {
      "text/plain": [
       "{'mean_fit_time': array([0.13302641, 0.15969245, 0.31499774, 0.08202522, 0.16182878,\n",
       "        0.32407691, 0.08682663, 0.16941326, 0.33765357, 0.09457829,\n",
       "        0.18602183, 0.37179577]),\n",
       " 'std_fit_time': array([0.06566443, 0.00248799, 0.00366656, 0.00130412, 0.00225257,\n",
       "        0.00464986, 0.00303037, 0.00237192, 0.00624913, 0.00182313,\n",
       "        0.00262245, 0.00646449]),\n",
       " 'mean_score_time': array([0.0070142 , 0.00944648, 0.01755517, 0.00497401, 0.00914433,\n",
       "        0.0176295 , 0.00522072, 0.00928559, 0.01786847, 0.00533595,\n",
       "        0.00979471, 0.01888089]),\n",
       " 'std_score_time': array([3.08392786e-03, 7.96360442e-04, 7.11995004e-04, 5.46542807e-05,\n",
       "        4.25787081e-05, 1.78147257e-04, 5.45510859e-04, 6.83045054e-05,\n",
       "        5.24777867e-04, 7.40738708e-05, 4.68095279e-05, 2.10158338e-04]),\n",
       " 'param_max_depth': masked_array(data=[2, 2, 2, 3, 3, 3, 5, 5, 5, 10, 10, 10],\n",
       "              mask=[False, False, False, False, False, False, False, False,\n",
       "                    False, False, False, False],\n",
       "        fill_value='?',\n",
       "             dtype=object),\n",
       " 'param_n_estimators': masked_array(data=[50, 100, 200, 50, 100, 200, 50, 100, 200, 50, 100, 200],\n",
       "              mask=[False, False, False, False, False, False, False, False,\n",
       "                    False, False, False, False],\n",
       "        fill_value='?',\n",
       "             dtype=object),\n",
       " 'params': [{'max_depth': 2, 'n_estimators': 50},\n",
       "  {'max_depth': 2, 'n_estimators': 100},\n",
       "  {'max_depth': 2, 'n_estimators': 200},\n",
       "  {'max_depth': 3, 'n_estimators': 50},\n",
       "  {'max_depth': 3, 'n_estimators': 100},\n",
       "  {'max_depth': 3, 'n_estimators': 200},\n",
       "  {'max_depth': 5, 'n_estimators': 50},\n",
       "  {'max_depth': 5, 'n_estimators': 100},\n",
       "  {'max_depth': 5, 'n_estimators': 200},\n",
       "  {'max_depth': 10, 'n_estimators': 50},\n",
       "  {'max_depth': 10, 'n_estimators': 100},\n",
       "  {'max_depth': 10, 'n_estimators': 200}],\n",
       " 'split0_test_score': array([0.71428571, 0.71428571, 0.7       , 0.7       , 0.71428571,\n",
       "        0.72857143, 0.7       , 0.71428571, 0.7       , 0.65714286,\n",
       "        0.68571429, 0.72857143]),\n",
       " 'split1_test_score': array([0.7       , 0.7       , 0.7       , 0.71428571, 0.72857143,\n",
       "        0.71428571, 0.74285714, 0.74285714, 0.72857143, 0.8       ,\n",
       "        0.78571429, 0.8       ]),\n",
       " 'split2_test_score': array([0.7       , 0.7       , 0.7       , 0.71428571, 0.71428571,\n",
       "        0.71428571, 0.68571429, 0.72857143, 0.7       , 0.64285714,\n",
       "        0.62857143, 0.62857143]),\n",
       " 'split3_test_score': array([0.7       , 0.71428571, 0.7       , 0.71428571, 0.71428571,\n",
       "        0.71428571, 0.7       , 0.7       , 0.72857143, 0.65714286,\n",
       "        0.68571429, 0.67142857]),\n",
       " 'split4_test_score': array([0.7       , 0.7       , 0.7       , 0.7       , 0.7       ,\n",
       "        0.7       , 0.72857143, 0.72857143, 0.71428571, 0.68571429,\n",
       "        0.7       , 0.7       ]),\n",
       " 'split5_test_score': array([0.7       , 0.7       , 0.71428571, 0.68571429, 0.68571429,\n",
       "        0.7       , 0.67142857, 0.68571429, 0.68571429, 0.65714286,\n",
       "        0.67142857, 0.62857143]),\n",
       " 'split6_test_score': array([0.71428571, 0.68571429, 0.71428571, 0.71428571, 0.71428571,\n",
       "        0.71428571, 0.74285714, 0.74285714, 0.71428571, 0.74285714,\n",
       "        0.75714286, 0.72857143]),\n",
       " 'split7_test_score': array([0.7       , 0.7       , 0.7       , 0.71428571, 0.71428571,\n",
       "        0.72857143, 0.71428571, 0.72857143, 0.71428571, 0.7       ,\n",
       "        0.72857143, 0.7       ]),\n",
       " 'split8_test_score': array([0.68571429, 0.68571429, 0.68571429, 0.67142857, 0.68571429,\n",
       "        0.68571429, 0.68571429, 0.68571429, 0.68571429, 0.65714286,\n",
       "        0.68571429, 0.68571429]),\n",
       " 'split9_test_score': array([0.7       , 0.7       , 0.7       , 0.72857143, 0.72857143,\n",
       "        0.71428571, 0.74285714, 0.75714286, 0.72857143, 0.74285714,\n",
       "        0.74285714, 0.75714286]),\n",
       " 'mean_test_score': array([0.70142857, 0.7       , 0.70142857, 0.70571429, 0.71      ,\n",
       "        0.71142857, 0.71142857, 0.72142857, 0.71      , 0.69428571,\n",
       "        0.70714286, 0.70285714]),\n",
       " 'std_test_score': array([0.00769309, 0.00903508, 0.00769309, 0.0159079 , 0.01435697,\n",
       "        0.012454  , 0.02539484, 0.02325546, 0.01571429, 0.04915614,\n",
       "        0.0439155 , 0.0510302 ]),\n",
       " 'rank_test_score': array([ 9, 11,  9,  7,  4,  2,  2,  1,  4, 12,  6,  8], dtype=int32)}"
      ]
     },
     "execution_count": 118,
     "metadata": {},
     "output_type": "execute_result"
    }
   ],
   "source": [
    "grid_search.cv_results_"
   ]
  },
  {
   "cell_type": "markdown",
   "id": "42ec5ee9",
   "metadata": {},
   "source": [
    "### Entrenamiento final"
   ]
  },
  {
   "cell_type": "code",
   "execution_count": 120,
   "id": "b71ee1c2",
   "metadata": {},
   "outputs": [],
   "source": [
    "final_pipeline = Pipeline(\n",
    "            [\n",
    "                (\"preprocesamiento\", column_transformer),\n",
    "                (\"modelo\", RandomForestClassifier(max_depth=5, \n",
    "                                                  n_estimators=100))\n",
    "            ]\n",
    ")"
   ]
  },
  {
   "cell_type": "code",
   "execution_count": null,
   "id": "89cf0602",
   "metadata": {},
   "outputs": [],
   "source": [
    "final_pipeline.fit(X_trainm,)"
   ]
  },
  {
   "cell_type": "code",
   "execution_count": null,
   "id": "240730d9",
   "metadata": {},
   "outputs": [],
   "source": []
  },
  {
   "cell_type": "markdown",
   "id": "7992a3ea",
   "metadata": {},
   "source": []
  },
  {
   "cell_type": "code",
   "execution_count": null,
   "id": "8e6553b4",
   "metadata": {},
   "outputs": [],
   "source": []
  },
  {
   "cell_type": "markdown",
   "id": "37092820",
   "metadata": {},
   "source": []
  },
  {
   "cell_type": "code",
   "execution_count": null,
   "id": "0d1a6c2d",
   "metadata": {},
   "outputs": [],
   "source": []
  }
 ],
 "metadata": {
  "kernelspec": {
   "display_name": "conda_pytorch_p38",
   "language": "python",
   "name": "conda_pytorch_p38"
  },
  "language_info": {
   "codemirror_mode": {
    "name": "ipython",
    "version": 3
   },
   "file_extension": ".py",
   "mimetype": "text/x-python",
   "name": "python",
   "nbconvert_exporter": "python",
   "pygments_lexer": "ipython3",
   "version": "3.8.12"
  }
 },
 "nbformat": 4,
 "nbformat_minor": 5
}
